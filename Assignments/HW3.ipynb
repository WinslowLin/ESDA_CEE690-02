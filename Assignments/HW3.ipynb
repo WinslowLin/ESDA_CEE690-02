{
 "cells": [
  {
   "cell_type": "markdown",
   "metadata": {},
   "source": [
    "# Assignment #3"
   ]
  },
  {
   "attachments": {},
   "cell_type": "markdown",
   "metadata": {},
   "source": [
    "# 1. K-means from scratch (25 points)\n",
    "\n",
    "Code up the K-means algorithm. To test your code, sample from the three bivariate Gaussian distributions provided below and find three clusters from this sampled data. To initialize your algorihtm, you may use the initial centroids defined below. After predicting the cluster to which each data point belongs, make a scatter plot similar to the one shown below. For consistency, set the random seed to 1 before sampling from the three bivariate Gaussian distributions.\n",
    "\n",
    "* Bivariate Gaussians\n",
    "$$\\mathbf{\\mu_1} = \\begin{bmatrix}\n",
    "3.0\\\\\n",
    "1.0\\\\\n",
    "\\end{bmatrix}$$\n",
    "\n",
    "$$\\mathbf{\\mu_2} = \\begin{bmatrix}\n",
    "-1.0\\\\\n",
    "3.0\\\\\n",
    "\\end{bmatrix}$$\n",
    "\n",
    "$$\\mathbf{\\mu_2} = \\begin{bmatrix}\n",
    "-5.0\\\\\n",
    "2.0\\\\\n",
    "\\end{bmatrix}$$\n",
    "\n",
    "$$\\mathbf{\\Sigma_1} = \\mathbf{\\Sigma_2} = \\mathbf{\\Sigma_3}\\begin{bmatrix}\n",
    "0.9&0.3\\\\\n",
    "0.3&0.9\\\\\n",
    "\\end{bmatrix}$$\n",
    "\n",
    "* Initial centroids:\n",
    "$$\\mathbf{c_1} = \\begin{bmatrix}\n",
    "0.4\\\\\n",
    "0.3\\\\\n",
    "\\end{bmatrix}$$\n",
    "\n",
    "$$\\mathbf{c_2} = \\begin{bmatrix}\n",
    "0.1\\\\\n",
    "0.4\\\\\n",
    "\\end{bmatrix}$$\n",
    "\n",
    "$$\\mathbf{c_2} = \\begin{bmatrix}\n",
    "-2.0\\\\\n",
    "2.0\\\\\n",
    "\\end{bmatrix}$$"
   ]
  },
  {
   "cell_type": "code",
   "execution_count": null,
   "metadata": {},
   "outputs": [],
   "source": []
  },
  {
   "cell_type": "markdown",
   "metadata": {},
   "source": [
    "# 2. Predicting soil taxonomy (50 pts)\n",
    "\n",
    "In the United States, soils are classified using the [USDA soil taxonomy](https://www.nrcs.usda.gov/Internet/FSE_DOCUMENTS/nrcs142p2_051232.pdf). Within the USDA soil taxonomy, the most general level is the taxonomic order. In this problem we will be using a suite of decision-tree based classification algorithms to create spatial maps of taxonomic order over western Illinois. The point observations come from the [NASIS database](https://www.nrcs.usda.gov/wps/portal/nrcs/detail/soils/survey/tools/?cid=nrcs142p2_053552) while the environmental predictors come from Sentinel 2, the National Elevation Data, and the National Land Cover database.\n",
    "\n",
    "All the data has already been subsetted and preprocessed and are compiled in the following NetCDF file `/data/HW/HW3.nc`. The file is split into two groups: predictors and observations. The predictors group contains a set of 1 arcsec maps for the domain and the observations group contains the in-situ taxonomic order observations with their associated geographic coordinates. Although not required, we recommend using xarray to read in these data. \n",
    "\n",
    "**A.** Read in and create maps of all the predictors. Describe any apparent discrepancies in spatial resolution between the maps.\n",
    "\n",
    "**B.** Read in the in-situ observations and assemble the corresponding predictors for each site. Create the $\\mathbf{X}$ array of predictors and the $\\mathbf{y}$ array of observed taxonomic orders. Note that you will need to convert the taxonomic order names to integers.\n",
    "\n",
    "**C.** Use the validation set approach to divide your data into training and test datasets. The training dataset should 20% of the data. Then fit a Decision tree using the training data and evaluate its accuracy for both the training and test datasets. Explain the differences in accuracy when evaluating the training and test datasets. To ensure reproduceability, when initializing the decision tree, set the random_state to 1.\n",
    "\n",
    "**D.** Using  all the site data, perform a 10-fold cross validation of the decision tree and compare the results to the previous exercise. Set random_state to 1 and set shuffle to True.\n",
    "\n",
    "**E.** Setting the number of decision trees to 100, perform a 10-fold cross validation using Bagging, Random Forests, Gradient Boosting, and Multilayer Perceptrons (ANNs). Discuss how the results of these different ensemble methods vary amongst themselves. Also compare the results to those obtained from a single decision tree. Remember to set random_state to 1.\n",
    "\n",
    "**F.** Using 100 trees, fit a Random Forest to the entire sites dataset and report the out of bag score. Compare that result to that obtained from the cross validation. Explain what the out of bag score is and how it can be more useful than cross validation. Remember to set random_state to 1.\n",
    "\n",
    "**G.** Starting from 10 to 100 decision trees per Random Forest, determine the optimal number of decision trees. \n",
    "\n",
    "**H.** After fitting a random forest with 100 trees, plot a map of the entire region of the predicted taxonomy order.\n",
    "\n",
    "**I.** Use Principal Component Analysis (PCA) to determine a reduced number of covariates. The exact number of features that you use from PCA is not as important as much as explaining why you use the result that you use. Fit and evaluate the Random Forest fit from the corresponding principal components."
   ]
  },
  {
   "cell_type": "code",
   "execution_count": null,
   "metadata": {},
   "outputs": [],
   "source": []
  },
  {
   "cell_type": "markdown",
   "metadata": {},
   "source": [
    "# 3. TBD (25 pts)\n",
    "\n"
   ]
  },
  {
   "cell_type": "code",
   "execution_count": null,
   "metadata": {},
   "outputs": [],
   "source": []
  }
 ],
 "metadata": {
  "kernelspec": {
   "display_name": "Python 3",
   "language": "python",
   "name": "python3"
  },
  "language_info": {
   "codemirror_mode": {
    "name": "ipython",
    "version": 3
   },
   "file_extension": ".py",
   "mimetype": "text/x-python",
   "name": "python",
   "nbconvert_exporter": "python",
   "pygments_lexer": "ipython3",
   "version": "3.7.3"
  }
 },
 "nbformat": 4,
 "nbformat_minor": 2
}
